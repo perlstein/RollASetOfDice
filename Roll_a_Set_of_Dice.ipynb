{
  "nbformat": 4,
  "nbformat_minor": 0,
  "metadata": {
    "colab": {
      "name": "Roll a Set of Dice.ipynb",
      "provenance": [],
      "collapsed_sections": [],
      "authorship_tag": "ABX9TyPSqAzrqmNpJ3XXyB0m0KXW",
      "include_colab_link": true
    },
    "kernelspec": {
      "name": "python3",
      "display_name": "Python 3"
    }
  },
  "cells": [
    {
      "cell_type": "markdown",
      "metadata": {
        "id": "view-in-github",
        "colab_type": "text"
      },
      "source": [
        "<a href=\"https://colab.research.google.com/github/perlstein/RollASetOfDice/blob/master/Roll_a_Set_of_Dice.ipynb\" target=\"_parent\"><img src=\"https://colab.research.google.com/assets/colab-badge.svg\" alt=\"Open In Colab\"/></a>"
      ]
    },
    {
      "cell_type": "code",
      "metadata": {
        "id": "znXxlTygO2H5",
        "colab_type": "code",
        "colab": {}
      },
      "source": [
        "# Import\n",
        "import random\n",
        "\n",
        "# Define Roll\n",
        "def roll (Number):\n",
        "  a=random.choice(range(1, int(num2)+1, 1))\n",
        "  print(a)\n",
        "\n",
        "#Actual Roll\n",
        "print(\"How many dice do you want to roll\")\n",
        "number = input()\n",
        "print(\"How many sides on each dice?\")\n",
        "num2 = input()\n",
        "print(\"Ok you rolled:\")\n",
        "for i in range(0, int(number)):\n",
        "  (roll(i))"
      ],
      "execution_count": null,
      "outputs": []
    }
  ]
}